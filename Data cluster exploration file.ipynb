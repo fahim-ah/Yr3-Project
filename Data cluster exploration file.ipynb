{
 "cells": [
  {
   "attachments": {},
   "cell_type": "markdown",
   "metadata": {},
   "source": [
    "# **Exploring data for each cluster**"
   ]
  },
  {
   "attachments": {},
   "cell_type": "markdown",
   "metadata": {},
   "source": [
    "**Importing modules + dataframes**"
   ]
  },
  {
   "cell_type": "code",
   "execution_count": null,
   "metadata": {},
   "outputs": [],
   "source": [
    "import pandas as pd\n",
    "import numpy as np\n",
    "import matplotlib.pyplot as plt\n",
    "from mp_api.client import MPRester\n",
    "from pymatgen.analysis.pourbaix_diagram import PourbaixDiagram\n",
    "from pymatgen.analysis.pourbaix_diagram import PourbaixPlotter\n",
    "from IPython.display import display\n",
    "import random \n",
    "\n",
    "# Importing all datasets\n",
    "cluster_1 = pd.read_csv(r'Cluster_csv_files\\Cluster_0.csv')\n",
    "cluster_2 = pd.read_csv(r'Cluster_csv_files\\Cluster_1.csv')\n",
    "cluster_3 = pd.read_csv(r'Cluster_csv_files\\Cluster_2.csv')\n",
    "cluster_4 = pd.read_csv(r'Cluster_csv_files\\Cluster_3.csv')\n",
    "cluster_5 = pd.read_csv(r'Cluster_csv_files\\Cluster_4.csv')"
   ]
  },
  {
   "attachments": {},
   "cell_type": "markdown",
   "metadata": {},
   "source": [
    "**Determining which cluster is assigned**"
   ]
  },
  {
   "cell_type": "code",
   "execution_count": null,
   "metadata": {},
   "outputs": [],
   "source": [
    "#Function to find minimum overpotential in a dataset\n",
    "def print_min(data):\n",
    "    print(data[\"Overpotential at xx (nearby) current density vs RHE, V\"].min())\n",
    "print_min(cluster_1)\n",
    "print_min(cluster_2)\n",
    "print_min(cluster_3)\n",
    "print_min(cluster_4)\n",
    "print_min(cluster_5)\n",
    "df_list = [cluster_1,cluster_2,cluster_3,cluster_4,cluster_5]"
   ]
  },
  {
   "cell_type": "code",
   "execution_count": null,
   "metadata": {},
   "outputs": [],
   "source": [
    "# Assigning clusters\n",
    "\n",
    "def assign_clusters(df_list):\n",
    "    for data in df_list:\n",
    "        if data[\"Overpotential at xx (nearby) current density vs RHE, V\"].min() == 1.89:\n",
    "            left_data = data\n",
    "        elif data[\"Overpotential at xx (nearby) current density vs RHE, V\"].min() == 1.09:\n",
    "            middle_left = data\n",
    "        elif data[\"Overpotential at xx (nearby) current density vs RHE, V\"].min() == 0.81:\n",
    "            middle_right = data\n",
    "        elif data[\"Overpotential at xx (nearby) current density vs RHE, V\"].min() == 0.26:\n",
    "            optimum_region = data\n",
    "        else:\n",
    "            right_data = data\n",
    "    new_df_list = [left_data,middle_left,middle_right,optimum_region,right_data]\n",
    "    return new_df_list\n",
    "\n",
    "new_df_list = assign_clusters(df_list)\n",
    "#print(new_df_list)\n",
    "\n",
    "var_names = [\"left_data\", \"middle_left\", \"middle_right\", \"optimum_region\", \"right_data\"]\n",
    "vars_dict = dict(zip(var_names, new_df_list))\n",
    "left_data = vars_dict[\"left_data\"]\n",
    "middle_left= vars_dict[\"middle_left\"]\n",
    "middle_right = vars_dict[\"middle_right\"]\n",
    "optimum_region = vars_dict[\"optimum_region\"]\n",
    "right_data = vars_dict[\"right_data\"]"
   ]
  },
  {
   "cell_type": "code",
   "execution_count": null,
   "metadata": {},
   "outputs": [],
   "source": [
    "#Making a spreadsheet for each region\n",
    "with pd.ExcelWriter('separated regions.xlsx') as writer:  \n",
    "    left_data.to_excel(writer, sheet_name='left data')\n",
    "    middle_right.to_excel(writer, sheet_name='middle right')\n",
    "    middle_left.to_excel(writer, sheet_name='middle left')\n",
    "    optimum_region.to_excel(writer, sheet_name='optimum region')\n",
    "    right_data.to_excel(writer, sheet_name='right data')"
   ]
  },
  {
   "attachments": {},
   "cell_type": "markdown",
   "metadata": {},
   "source": [
    "**Finding composition data on each dataframe**"
   ]
  },
  {
   "cell_type": "code",
   "execution_count": null,
   "metadata": {},
   "outputs": [],
   "source": [
    "#Function to produce a df of counts for every element within each datafram\n",
    "def retrieve_composition_df(df):\n",
    "    comp_list = list(df['composition'])\n",
    "    ind_element = []\n",
    "    for i in comp_list:\n",
    "        ind_element+=i.split()\n",
    "    [[x,ind_element.count(x)] for x in set(ind_element)]\n",
    "    ind_element_dic =  dict((x,ind_element.count(x)) for x in set(ind_element))\n",
    "    ind_element_df = pd.DataFrame.from_dict(ind_element_dic, orient = 'index', columns=['Count'])\n",
    "    ind_element_df= ind_element_df.reset_index(names=['Element'])\n",
    "    ind_element_df = ind_element_df.sort_values(by = 'Count', ascending=False, ignore_index=True)\n",
    "    #display(ind_element_df)\n",
    "    return ind_element_df\n"
   ]
  },
  {
   "cell_type": "code",
   "execution_count": null,
   "metadata": {},
   "outputs": [],
   "source": [
    "#Bar chart plot to visualise the number of elements in each region, +saving figures\n",
    "def bar_chart_element_count(df1,df2,df3,df4,df5):\n",
    "    df_list = [df1,df2,df3,df4,df5]\n",
    "    for i in range(0,len(df_list)):\n",
    "        title_lst = ['Optimum region','Left side','Middle left','Middle right', 'Right side']\n",
    "        df = df_list[i].loc[1:12,:]\n",
    "        fig, ax = plt.subplots()\n",
    "        ax.bar(x=df['Element'], height=df['Count'])\n",
    "        ax.set_title(title_lst[i])\n",
    "        ax.set_xlabel('Element')\n",
    "        ax.set_ylabel('Count')\n",
    "        fig.savefig('Bar_charts\\\\'+title_lst[i]+'.png', bbox_inches='tight')\n"
   ]
  },
  {
   "cell_type": "code",
   "execution_count": null,
   "metadata": {},
   "outputs": [],
   "source": [
    "\n",
    "element_df_optimum =  retrieve_composition_df(optimum_region)\n",
    "element_df_left =  retrieve_composition_df(left_data)\n",
    "element_df_middle_left =  retrieve_composition_df(middle_left)\n",
    "element_df_middle_right =  retrieve_composition_df(middle_right)\n",
    "element_df_right =  retrieve_composition_df(right_data)\n",
    "#bar_chart_element_count(element_df_optimum,element_df_left,element_df_middle_left,element_df_middle_right,element_df_right)"
   ]
  },
  {
   "attachments": {},
   "cell_type": "markdown",
   "metadata": {},
   "source": [
    "**Analysing if elements are spread or concentrated in one region**"
   ]
  },
  {
   "cell_type": "code",
   "execution_count": null,
   "metadata": {},
   "outputs": [],
   "source": [
    "#Adding new column names\n",
    "title_lst = ['Optimum region','Left side','Middle left','Middle right', 'Right side']\n",
    "element_df_optimum['Region'] = 'Optimum region'\n",
    "element_df_left['Region'] = 'Left side'\n",
    "element_df_middle_left['Region'] =  'Middle left'\n",
    "element_df_middle_right['Region'] = 'Middle right'\n",
    "element_df_right['Region'] = 'Right side'"
   ]
  },
  {
   "cell_type": "code",
   "execution_count": null,
   "metadata": {},
   "outputs": [],
   "source": [
    "#Combining datasets \n",
    "combined_element_df = pd.concat([element_df_optimum,element_df_left,element_df_middle_left,element_df_middle_right,element_df_right])\n",
    "combined_element_df = combined_element_df.pivot_table(\n",
    "                        values='Count',\n",
    "                        index='Element',\n",
    "                        columns='Region',\n",
    "                        fill_value=0,\n",
    "                        aggfunc= sum,\n",
    "                        margins=True)\n",
    "#combined_element_df.to_excel('Element analysis file.xlsx')"
   ]
  },
  {
   "cell_type": "code",
   "execution_count": null,
   "metadata": {},
   "outputs": [],
   "source": [
    "# Function to remove rows which will not get us data from the materials project\n",
    "def remove_rows_without_data(datset):\n",
    "    df = datset.dropna(subset = ['material id'], inplace = False)\n",
    "    return df\n",
    "df_list = [optimum_region,middle_left,middle_right,left_data,right_data]\n",
    "left_data_pourbaix = remove_rows_without_data(left_data)\n",
    "right_data_pourbaix = remove_rows_without_data(right_data)\n",
    "middle_left_pourbaix = remove_rows_without_data(middle_left)\n",
    "middle_right_pourbaix = remove_rows_without_data(middle_right)\n",
    "optimum_region_pourbaix = remove_rows_without_data(optimum_region)"
   ]
  },
  {
   "attachments": {},
   "cell_type": "markdown",
   "metadata": {},
   "source": [
    "**Code for Generating pourbaix diagrams**"
   ]
  },
  {
   "cell_type": "code",
   "execution_count": null,
   "metadata": {},
   "outputs": [],
   "source": [
    "#Function to generate a pourbaix diagram\n",
    "\n",
    "def generate_pourbaix(chemsys,path):\n",
    "    with MPRester(api_key='CmGarHKLtPCjVpEkivPDYkhRJKJiB8A7') as mpr:\n",
    "        pourbaix_entries = mpr.get_pourbaix_entries(chemsys)\n",
    "    pd = PourbaixDiagram(pourbaix_entries)\n",
    "    plotter = PourbaixPlotter(pd)\n",
    "    PourbaixPlotter.get_pourbaix_plot(plotter,limits=[[-2, 16],[-3, 3]])\n",
    "    plt.savefig(path+chemsys+'.png',bbox_inches='tight')"
   ]
  },
  {
   "attachments": {},
   "cell_type": "markdown",
   "metadata": {},
   "source": [
    "**Gathering 10 random samples from each region**"
   ]
  },
  {
   "cell_type": "code",
   "execution_count": null,
   "metadata": {},
   "outputs": [],
   "source": [
    "#Finding 10 random formulas from each region\n",
    "# rand_opt_region = random.sample(list(optimum_region_pourbaix['chemsys']), 10)\n",
    "# rand_middle_left = random.sample(list(middle_left_pourbaix['chemsys']), 10)\n",
    "# rand_middle_right = random.sample(list(middle_right_pourbaix['chemsys']), 10)\n",
    "# rand_left = random.sample(list(left_data_pourbaix['chemsys']), 10)\n",
    "# rand_right = random.sample(list(right_data_pourbaix['chemsys']), 10)\n",
    "\n",
    "rand_opt_region = ['Cd-Mn-O', 'O-Rh-Tb', 'Lu-Mn-O', 'Fe-Lu-O', 'La-O-Ti', 'Ba-Mn-O', 'Cr-O-Sr', 'Ca-O-Ru', 'Mn-Nd-O', 'Fe-Nd-O']\n",
    "rand_middle_left = ['Cr-Lu-O', 'Cr-O-Y', 'Cr-La-O', 'Gd-O-V', 'Na-O-V', 'Al-La-O', 'O-V-Yb', 'Ho-O-V', 'Ba-Nb-O', 'Eu-O-U']\n",
    "rand_middle_right = ['Bi-Ho-O', 'Ba-Bi-O', 'Ho-Ni-O', 'Cu-La-O', 'Au-Ba-O', 'Cs-I-O', 'Lu-Ni-O', 'Al-O-Yb', 'Dy-Ni-O', 'Ba-Cu-O']\n",
    "rand_left = ['Ba-Mo-O', 'In-O-Ta', 'Na-O-W', 'Ca-O-W', 'Al-Ba-O', 'O-Tl-W', 'Ba-Nb-O', 'O-Sc-Si', 'Mo-Na-O', 'O-Sr-V']\n",
    "rand_right = ['Al-Gd-O', 'Ba-O-Zr', 'O-Sr-Ti', 'O-Sc-Yb', 'Ba-O-Sc', 'In-Nd-O', 'Cu-O-Y', 'O-Pb-Sr', 'Eu-Ge-O', 'Ba-In-O']\n",
    "\n",
    "#Function to generate pourbaix diagrams through each list\n",
    "def list_screening(lst,index):\n",
    "    path_name = ['Pourbaix_plots\\Optimum_region\\\\','Pourbaix_plots\\Middle_left\\\\','Pourbaix_plots\\Middle_right\\\\',\n",
    "                'Pourbaix_plots\\Left_data\\\\','Pourbaix_plots\\Right_data\\\\']\n",
    "    for i in range(0,len(lst)):\n",
    "        generate_pourbaix(lst[i],path_name[index])"
   ]
  },
  {
   "cell_type": "code",
   "execution_count": 129,
   "metadata": {},
   "outputs": [
    {
     "name": "stdout",
     "output_type": "stream",
     "text": [
      "['Cd-Mn-O', 'O-Rh-Tb', 'Lu-Mn-O', 'Fe-Lu-O', 'La-O-Ti', 'Ba-Mn-O', 'Cr-O-Sr', 'Ca-O-Ru', 'Mn-Nd-O', 'Fe-Nd-O']\n",
      "['Cr-Lu-O', 'Cr-O-Y', 'Cr-La-O', 'Gd-O-V', 'Na-O-V', 'Al-La-O', 'O-V-Yb', 'Ho-O-V', 'Ba-Nb-O', 'Eu-O-U']\n",
      "['Bi-Ho-O', 'Ba-Bi-O', 'Ho-Ni-O', 'Cu-La-O', 'Au-Ba-O', 'Cs-I-O', 'Lu-Ni-O', 'Al-O-Yb', 'Dy-Ni-O', 'Ba-Cu-O']\n",
      "['Ba-Mo-O', 'In-O-Ta', 'Na-O-W', 'Ca-O-W', 'Al-Ba-O', 'O-Tl-W', 'Ba-Nb-O', 'O-Sc-Si', 'Mo-Na-O', 'O-Sr-V']\n",
      "['Al-Gd-O', 'Ba-O-Zr', 'O-Sr-Ti', 'O-Sc-Yb', 'Ba-O-Sc', 'In-Nd-O', 'Cu-O-Y', 'O-Pb-Sr', 'Eu-Ge-O', 'Ba-In-O']\n"
     ]
    }
   ],
   "source": [
    "# Generating pourbaix diagrams for random elements selected\n",
    "print(rand_opt_region)\n",
    "print(rand_middle_left)\n",
    "print(rand_middle_right)\n",
    "print(rand_left)\n",
    "print(rand_right)\n",
    "\n",
    "# list_screening(rand_opt_region,0)\n",
    "# list_screening(rand_middle_left,1)\n",
    "# list_screening(rand_middle_right,2)\n",
    "# list_screening(rand_left,3)\n",
    "# list_screening(rand_right,4)"
   ]
  }
 ],
 "metadata": {
  "kernelspec": {
   "display_name": "Python 3",
   "language": "python",
   "name": "python3"
  },
  "language_info": {
   "codemirror_mode": {
    "name": "ipython",
    "version": 3
   },
   "file_extension": ".py",
   "mimetype": "text/x-python",
   "name": "python",
   "nbconvert_exporter": "python",
   "pygments_lexer": "ipython3",
   "version": "3.10.2"
  },
  "orig_nbformat": 4,
  "vscode": {
   "interpreter": {
    "hash": "ba9d6d80d2d4940eb0c1c06aa984546225b073a21b65076120add7de741b0a88"
   }
  }
 },
 "nbformat": 4,
 "nbformat_minor": 2
}
