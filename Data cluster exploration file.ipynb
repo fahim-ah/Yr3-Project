{
 "cells": [
  {
   "attachments": {},
   "cell_type": "markdown",
   "metadata": {},
   "source": [
    "# **Exploring data for each cluster**"
   ]
  },
  {
   "attachments": {},
   "cell_type": "markdown",
   "metadata": {},
   "source": [
    "**Importing modules + dataframes**"
   ]
  },
  {
   "cell_type": "code",
   "execution_count": 26,
   "metadata": {},
   "outputs": [],
   "source": [
    "import pandas as pd\n",
    "import numpy as np\n",
    "import matplotlib.pyplot as plt\n",
    "from sklearn.cluster import KMeans\n",
    "from matminer.featurizers.conversions import StrToComposition\n",
    "from pymatgen.ext.matproj import MPRester\n",
    "from sklearn.linear_model import LinearRegression\n",
    "from IPython.display import display\n",
    "\n",
    "# Importing all datasets\n",
    "cluster_1 = pd.read_csv(r'Cluster_0.csv')\n",
    "cluster_2 = pd.read_csv(r'Cluster_1.csv')\n",
    "cluster_3 = pd.read_csv(r'Cluster_2.csv')\n",
    "cluster_4 = pd.read_csv(r'Cluster_3.csv')\n",
    "cluster_5 = pd.read_csv(r'Cluster_4.csv')"
   ]
  },
  {
   "attachments": {},
   "cell_type": "markdown",
   "metadata": {},
   "source": [
    "**Determining which cluster is assigned**"
   ]
  },
  {
   "cell_type": "code",
   "execution_count": 27,
   "metadata": {},
   "outputs": [
    {
     "name": "stdout",
     "output_type": "stream",
     "text": [
      "1.89\n",
      "0.81\n",
      "1.36\n",
      "0.26\n",
      "1.09\n"
     ]
    }
   ],
   "source": [
    "#Function to find minimum overpotential in a dataset\n",
    "def print_min(data):\n",
    "    print(data[\"Overpotential at xx (nearby) current density vs RHE, V\"].min())\n",
    "print_min(cluster_1)\n",
    "print_min(cluster_2)\n",
    "print_min(cluster_3)\n",
    "print_min(cluster_4)\n",
    "print_min(cluster_5)\n",
    "df_list = [cluster_1,cluster_2,cluster_3,cluster_4,cluster_5]"
   ]
  },
  {
   "cell_type": "code",
   "execution_count": 29,
   "metadata": {},
   "outputs": [],
   "source": [
    "# Assigning clusters\n",
    "\n",
    "def assign_clusters(df_list):\n",
    "    for data in df_list:\n",
    "        if data[\"Overpotential at xx (nearby) current density vs RHE, V\"].min() == 1.89:\n",
    "            left_data = data\n",
    "        elif data[\"Overpotential at xx (nearby) current density vs RHE, V\"].min() == 1.09:\n",
    "            middle_left = data\n",
    "        elif data[\"Overpotential at xx (nearby) current density vs RHE, V\"].min() == 0.81:\n",
    "            middle_right = data\n",
    "        elif data[\"Overpotential at xx (nearby) current density vs RHE, V\"].min() == 0.26:\n",
    "            optimum_region = data\n",
    "        else:\n",
    "            right_data = data\n",
    "    new_df_list = [left_data,middle_left,middle_right,optimum_region,right_data]\n",
    "    return new_df_list\n",
    "\n",
    "new_df_list = assign_clusters(df_list)\n",
    "#print(new_df_list)\n",
    "\n",
    "var_names = [\"left_data\", \"middle_left\", \"middle_right\", \"optimum_region\", \"right_data\"]\n",
    "vars_dict = dict(zip(var_names, new_df_list))\n",
    "left_data = vars_dict[\"left_data\"]\n",
    "middle_left= vars_dict[\"middle_left\"]\n",
    "middle_right = vars_dict[\"middle_right\"]\n",
    "optimum_region = vars_dict[\"optimum_region\"]\n",
    "right_data = vars_dict[\"right_data\"]\n",
    "\n",
    "\n"
   ]
  }
 ],
 "metadata": {
  "kernelspec": {
   "display_name": "Python 3",
   "language": "python",
   "name": "python3"
  },
  "language_info": {
   "codemirror_mode": {
    "name": "ipython",
    "version": 3
   },
   "file_extension": ".py",
   "mimetype": "text/x-python",
   "name": "python",
   "nbconvert_exporter": "python",
   "pygments_lexer": "ipython3",
   "version": "3.10.2 (tags/v3.10.2:a58ebcc, Jan 17 2022, 14:12:15) [MSC v.1929 64 bit (AMD64)]"
  },
  "orig_nbformat": 4,
  "vscode": {
   "interpreter": {
    "hash": "ba9d6d80d2d4940eb0c1c06aa984546225b073a21b65076120add7de741b0a88"
   }
  }
 },
 "nbformat": 4,
 "nbformat_minor": 2
}
