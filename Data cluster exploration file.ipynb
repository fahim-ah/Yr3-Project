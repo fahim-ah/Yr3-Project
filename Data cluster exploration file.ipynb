{
 "cells": [
  {
   "attachments": {},
   "cell_type": "markdown",
   "metadata": {},
   "source": [
    "# **Exploring data for each cluster**"
   ]
  },
  {
   "attachments": {},
   "cell_type": "markdown",
   "metadata": {},
   "source": [
    "**Importing modules + dataframes**"
   ]
  },
  {
   "cell_type": "code",
   "execution_count": null,
   "metadata": {},
   "outputs": [],
   "source": [
    "import pandas as pd\n",
    "import numpy as np\n",
    "import matplotlib.pyplot as plt\n",
    "from sklearn.cluster import KMeans\n",
    "from matminer.featurizers.conversions import StrToComposition\n",
    "from pymatgen.ext.matproj import MPRester\n",
    "from sklearn.linear_model import LinearRegression\n",
    "from IPython.display import display\n",
    "\n",
    "# Importing all datasets\n",
    "cluster_1 = pd.read_csv(r'Cluster_0.csv')\n",
    "cluster_2 = pd.read_csv(r'Cluster_1.csv')\n",
    "cluster_3 = pd.read_csv(r'Cluster_2.csv')\n",
    "cluster_4 = pd.read_csv(r'Cluster_3.csv')\n",
    "cluster_5 = pd.read_csv(r'Cluster_4.csv')"
   ]
  },
  {
   "attachments": {},
   "cell_type": "markdown",
   "metadata": {},
   "source": [
    "**Determining which cluster is assigned**"
   ]
  },
  {
   "cell_type": "code",
   "execution_count": null,
   "metadata": {},
   "outputs": [],
   "source": [
    "#Function to find minimum overpotential in a dataset\n",
    "def print_min(data):\n",
    "    print(data[\"Overpotential at xx (nearby) current density vs RHE, V\"].min())\n",
    "print_min(cluster_1)\n",
    "print_min(cluster_2)\n",
    "print_min(cluster_3)\n",
    "print_min(cluster_4)\n",
    "print_min(cluster_5)\n",
    "df_list = [cluster_1,cluster_2,cluster_3,cluster_4,cluster_5]"
   ]
  },
  {
   "cell_type": "code",
   "execution_count": null,
   "metadata": {},
   "outputs": [],
   "source": [
    "# Assigning clusters\n",
    "\n",
    "def assign_clusters(df_list):\n",
    "    for data in df_list:\n",
    "        if data[\"Overpotential at xx (nearby) current density vs RHE, V\"].min() == 1.89:\n",
    "            left_data = data\n",
    "        elif data[\"Overpotential at xx (nearby) current density vs RHE, V\"].min() == 1.09:\n",
    "            middle_left = data\n",
    "        elif data[\"Overpotential at xx (nearby) current density vs RHE, V\"].min() == 0.81:\n",
    "            middle_right = data\n",
    "        elif data[\"Overpotential at xx (nearby) current density vs RHE, V\"].min() == 0.26:\n",
    "            optimum_region = data\n",
    "        else:\n",
    "            right_data = data\n",
    "    new_df_list = [left_data,middle_left,middle_right,optimum_region,right_data]\n",
    "    return new_df_list\n",
    "\n",
    "new_df_list = assign_clusters(df_list)\n",
    "#print(new_df_list)\n",
    "\n",
    "var_names = [\"left_data\", \"middle_left\", \"middle_right\", \"optimum_region\", \"right_data\"]\n",
    "vars_dict = dict(zip(var_names, new_df_list))\n",
    "left_data = vars_dict[\"left_data\"]\n",
    "middle_left= vars_dict[\"middle_left\"]\n",
    "middle_right = vars_dict[\"middle_right\"]\n",
    "optimum_region = vars_dict[\"optimum_region\"]\n",
    "right_data = vars_dict[\"right_data\"]\n"
   ]
  },
  {
   "attachments": {},
   "cell_type": "markdown",
   "metadata": {},
   "source": [
    "**Finding composition data on each dataframe**"
   ]
  },
  {
   "cell_type": "code",
   "execution_count": null,
   "metadata": {},
   "outputs": [],
   "source": [
    "#Function to produce a df of counts for every element within each datafram\n",
    "def retrieve_composition_df(df):\n",
    "    comp_list = list(df['composition'])\n",
    "    ind_element = []\n",
    "    for i in comp_list:\n",
    "        ind_element+=i.split()\n",
    "    [[x,ind_element.count(x)] for x in set(ind_element)]\n",
    "    ind_element_dic =  dict((x,ind_element.count(x)) for x in set(ind_element))\n",
    "    ind_element_df = pd.DataFrame.from_dict(ind_element_dic, orient = 'index', columns=['Count'])\n",
    "    ind_element_df= ind_element_df.reset_index(names=['Element'])\n",
    "    ind_element_df = ind_element_df.sort_values(by = 'Count', ascending=False, ignore_index=True)\n",
    "    #display(ind_element_df)\n",
    "    return ind_element_df\n"
   ]
  },
  {
   "cell_type": "code",
   "execution_count": null,
   "metadata": {},
   "outputs": [],
   "source": [
    "#Bar chart plot to visualise the number of elements in each region, +saving figures\n",
    "def bar_chart_element_count(df1,df2,df3,df4,df5):\n",
    "    df_list = [df1,df2,df3,df4,df5]\n",
    "    for i in range(0,len(df_list)):\n",
    "        title_lst = ['Optimum region','Left side','Middle left','Middle right', 'Right side']\n",
    "        df = df_list[i].loc[1:12,:]\n",
    "        fig, ax = plt.subplots()\n",
    "        ax.bar(x=df['Element'], height=df['Count'])\n",
    "        ax.set_title(title_lst[i])\n",
    "        ax.set_xlabel('Element')\n",
    "        ax.set_ylabel('Count')\n",
    "        fig.savefig(title_lst[i]+'.png', bbox_inches='tight')\n"
   ]
  },
  {
   "cell_type": "code",
   "execution_count": null,
   "metadata": {},
   "outputs": [],
   "source": [
    "\n",
    "element_df_optimum =  retrieve_composition_df(optimum_region)\n",
    "element_df_left =  retrieve_composition_df(left_data)\n",
    "element_df_middle_left =  retrieve_composition_df(middle_left)\n",
    "element_df_middle_right =  retrieve_composition_df(middle_right)\n",
    "element_df_right =  retrieve_composition_df(right_data)\n",
    "bar_chart_element_count(element_df_optimum,element_df_left,element_df_middle_left,element_df_middle_right,element_df_right)"
   ]
  },
  {
   "attachments": {},
   "cell_type": "markdown",
   "metadata": {},
   "source": [
    "**Analysing if elements are spread or concentrated in one region**"
   ]
  },
  {
   "cell_type": "code",
   "execution_count": null,
   "metadata": {},
   "outputs": [],
   "source": [
    "#Adding new column names\n",
    "title_lst = ['Optimum region','Left side','Middle left','Middle right', 'Right side']\n",
    "\n",
    "element_df_optimum['Region'] = 'Optimum region'\n",
    "element_df_left['Region'] = 'Left side'\n",
    "element_df_middle_left['Region'] =  'Middle left'\n",
    "element_df_middle_right['Region'] = 'Middle right'\n",
    "element_df_right['Region'] = 'Right side'"
   ]
  },
  {
   "cell_type": "code",
   "execution_count": null,
   "metadata": {},
   "outputs": [],
   "source": [
    "#Combining datasets \n",
    "combined_element_df = pd.concat([element_df_optimum,element_df_left,element_df_middle_left,element_df_middle_right,element_df_right])\n",
    "combined_element_df = combined_element_df.pivot_table(\n",
    "                        values='Count',\n",
    "                        index='Element',\n",
    "                        columns='Region',\n",
    "                        fill_value=0,\n",
    "                        aggfunc= sum,\n",
    "                        margins=True)\n",
    "#combined_element_df.to_excel('Element analysis file.xlsx')"
   ]
  },
  {
   "attachments": {},
   "cell_type": "markdown",
   "metadata": {},
   "source": [
    "**Generating pourbaix diagrams**"
   ]
  },
  {
   "cell_type": "code",
   "execution_count": 166,
   "metadata": {},
   "outputs": [
    {
     "ename": "AttributeError",
     "evalue": "Resource 'contributions' has no operation 'get_entries'",
     "output_type": "error",
     "traceback": [
      "\u001b[1;31m---------------------------------------------------------------------------\u001b[0m",
      "\u001b[1;31mAttributeError\u001b[0m                            Traceback (most recent call last)",
      "Cell \u001b[1;32mIn[166], line 5\u001b[0m\n\u001b[0;32m      2\u001b[0m \u001b[39mfrom\u001b[39;00m \u001b[39mpymatgen\u001b[39;00m\u001b[39m.\u001b[39;00m\u001b[39manalysis\u001b[39;00m\u001b[39m.\u001b[39;00m\u001b[39mpourbaix_diagram\u001b[39;00m \u001b[39mimport\u001b[39;00m PourbaixDiagram\n\u001b[0;32m      4\u001b[0m \u001b[39mwith\u001b[39;00m MPRester(api_key\u001b[39m=\u001b[39m\u001b[39m'\u001b[39m\u001b[39mCmGarHKLtPCjVpEkivPDYkhRJKJiB8A7\u001b[39m\u001b[39m'\u001b[39m) \u001b[39mas\u001b[39;00m mpr:\n\u001b[1;32m----> 5\u001b[0m     pourbaix_entries \u001b[39m=\u001b[39m mpr\u001b[39m.\u001b[39;49mget_pourbaix_entries(\u001b[39m'\u001b[39;49m\u001b[39mAg-O-Ta\u001b[39;49m\u001b[39m'\u001b[39;49m)\n\u001b[0;32m      6\u001b[0m     pd \u001b[39m=\u001b[39m PourbaixDiagram(pourbaix_entries)\n",
      "File \u001b[1;32mc:\\Users\\Fahim\\AppData\\Local\\Programs\\Python\\Python310\\lib\\site-packages\\mp_api\\client\\mprester.py:628\u001b[0m, in \u001b[0;36mMPRester.get_pourbaix_entries\u001b[1;34m(self, chemsys, solid_compat, use_gibbs)\u001b[0m\n\u001b[0;32m    622\u001b[0m chemsys \u001b[39m=\u001b[39m \u001b[39msorted\u001b[39m(e\u001b[39m.\u001b[39mcapitalize() \u001b[39mfor\u001b[39;00m e \u001b[39min\u001b[39;00m chemsys)\n\u001b[0;32m    624\u001b[0m \u001b[39m# Get ion entries first, because certain ions have reference\u001b[39;00m\n\u001b[0;32m    625\u001b[0m \u001b[39m# solids that aren't necessarily in the chemsys (Na2SO4)\u001b[39;00m\n\u001b[0;32m    626\u001b[0m \n\u001b[0;32m    627\u001b[0m \u001b[39m# download the ion reference data from MPContribs\u001b[39;00m\n\u001b[1;32m--> 628\u001b[0m ion_data \u001b[39m=\u001b[39m \u001b[39mself\u001b[39;49m\u001b[39m.\u001b[39;49mget_ion_reference_data_for_chemsys(chemsys)\n\u001b[0;32m    630\u001b[0m \u001b[39m# build the PhaseDiagram for get_ion_entries\u001b[39;00m\n\u001b[0;32m    631\u001b[0m ion_ref_comps \u001b[39m=\u001b[39m [Ion\u001b[39m.\u001b[39mfrom_formula(d[\u001b[39m\"\u001b[39m\u001b[39mdata\u001b[39m\u001b[39m\"\u001b[39m][\u001b[39m\"\u001b[39m\u001b[39mRefSolid\u001b[39m\u001b[39m\"\u001b[39m])\u001b[39m.\u001b[39mcomposition \u001b[39mfor\u001b[39;00m d \u001b[39min\u001b[39;00m ion_data]\n",
      "File \u001b[1;32mc:\\Users\\Fahim\\AppData\\Local\\Programs\\Python\\Python310\\lib\\site-packages\\mp_api\\client\\mprester.py:756\u001b[0m, in \u001b[0;36mMPRester.get_ion_reference_data_for_chemsys\u001b[1;34m(self, chemsys)\u001b[0m\n\u001b[0;32m    721\u001b[0m \u001b[39mdef\u001b[39;00m \u001b[39mget_ion_reference_data_for_chemsys\u001b[39m(\u001b[39mself\u001b[39m, chemsys: Union[\u001b[39mstr\u001b[39m, List]) \u001b[39m-\u001b[39m\u001b[39m>\u001b[39m List[Dict]:\n\u001b[0;32m    722\u001b[0m     \u001b[39m\"\"\"\u001b[39;00m\n\u001b[0;32m    723\u001b[0m \u001b[39m    Download aqueous ion reference data used in the construction of Pourbaix diagrams.\u001b[39;00m\n\u001b[0;32m    724\u001b[0m \n\u001b[1;32m   (...)\u001b[0m\n\u001b[0;32m    753\u001b[0m \u001b[39m            compounds and aqueous species, Wiley, New York (1978)'}}\u001b[39;00m\n\u001b[0;32m    754\u001b[0m \u001b[39m    \"\"\"\u001b[39;00m\n\u001b[1;32m--> 756\u001b[0m     ion_data \u001b[39m=\u001b[39m \u001b[39mself\u001b[39;49m\u001b[39m.\u001b[39;49mget_ion_reference_data()\n\u001b[0;32m    758\u001b[0m     \u001b[39mreturn\u001b[39;00m [d \u001b[39mfor\u001b[39;00m d \u001b[39min\u001b[39;00m ion_data \u001b[39mif\u001b[39;00m d[\u001b[39m\"\u001b[39m\u001b[39mdata\u001b[39m\u001b[39m\"\u001b[39m][\u001b[39m\"\u001b[39m\u001b[39mMajElements\u001b[39m\u001b[39m\"\u001b[39m] \u001b[39min\u001b[39;00m chemsys]\n",
      "File \u001b[1;32mc:\\Users\\Fahim\\AppData\\Local\\Programs\\Python\\Python310\\lib\\site-packages\\mp_api\\client\\mprester.py:712\u001b[0m, in \u001b[0;36mMPRester.get_ion_reference_data\u001b[1;34m(self)\u001b[0m\n\u001b[0;32m    679\u001b[0m \u001b[39m@lru_cache\u001b[39m\n\u001b[0;32m    680\u001b[0m \u001b[39mdef\u001b[39;00m \u001b[39mget_ion_reference_data\u001b[39m(\u001b[39mself\u001b[39m) \u001b[39m-\u001b[39m\u001b[39m>\u001b[39m List[Dict]:\n\u001b[0;32m    681\u001b[0m     \u001b[39m\"\"\"\u001b[39;00m\n\u001b[0;32m    682\u001b[0m \u001b[39m    Download aqueous ion reference data used in the construction of Pourbaix diagrams.\u001b[39;00m\n\u001b[0;32m    683\u001b[0m \n\u001b[1;32m   (...)\u001b[0m\n\u001b[0;32m    707\u001b[0m \u001b[39m            compounds and aqueous species, Wiley, New York (1978)'}}\u001b[39;00m\n\u001b[0;32m    708\u001b[0m \u001b[39m    \"\"\"\u001b[39;00m\n\u001b[0;32m    710\u001b[0m     ion_data \u001b[39m=\u001b[39m [\n\u001b[0;32m    711\u001b[0m         d\n\u001b[1;32m--> 712\u001b[0m         \u001b[39mfor\u001b[39;00m d \u001b[39min\u001b[39;00m \u001b[39mself\u001b[39;49m\u001b[39m.\u001b[39;49mcontribs\u001b[39m.\u001b[39;49mcontributions\u001b[39m.\u001b[39;49mget_entries(\n\u001b[0;32m    713\u001b[0m             project\u001b[39m=\u001b[39m\u001b[39m\"\u001b[39m\u001b[39mion_ref_data\u001b[39m\u001b[39m\"\u001b[39m,\n\u001b[0;32m    714\u001b[0m             fields\u001b[39m=\u001b[39m[\u001b[39m\"\u001b[39m\u001b[39midentifier\u001b[39m\u001b[39m\"\u001b[39m, \u001b[39m\"\u001b[39m\u001b[39mformula\u001b[39m\u001b[39m\"\u001b[39m, \u001b[39m\"\u001b[39m\u001b[39mdata\u001b[39m\u001b[39m\"\u001b[39m],\n\u001b[0;32m    715\u001b[0m             per_page\u001b[39m=\u001b[39m\u001b[39m500\u001b[39m,\n\u001b[0;32m    716\u001b[0m         )\u001b[39m.\u001b[39mresult()[\u001b[39m\"\u001b[39m\u001b[39mdata\u001b[39m\u001b[39m\"\u001b[39m]\n\u001b[0;32m    717\u001b[0m     ]\n\u001b[0;32m    719\u001b[0m     \u001b[39mreturn\u001b[39;00m ion_data\n",
      "File \u001b[1;32mc:\\Users\\Fahim\\AppData\\Local\\Programs\\Python\\Python310\\lib\\site-packages\\bravado\\client.py:229\u001b[0m, in \u001b[0;36mResourceDecorator.__getattr__\u001b[1;34m(self, name)\u001b[0m\n\u001b[0;32m    225\u001b[0m \u001b[39mdef\u001b[39;00m \u001b[39m__getattr__\u001b[39m(\u001b[39mself\u001b[39m, name):\n\u001b[0;32m    226\u001b[0m     \u001b[39m\"\"\"\u001b[39;00m\n\u001b[0;32m    227\u001b[0m \u001b[39m    :rtype: :class:`CallableOperation`\u001b[39;00m\n\u001b[0;32m    228\u001b[0m \u001b[39m    \"\"\"\u001b[39;00m\n\u001b[1;32m--> 229\u001b[0m     \u001b[39mreturn\u001b[39;00m CallableOperation(\u001b[39mgetattr\u001b[39;49m(\u001b[39mself\u001b[39;49m\u001b[39m.\u001b[39;49mresource, name), \u001b[39mself\u001b[39m\u001b[39m.\u001b[39malso_return_response)\n",
      "File \u001b[1;32mc:\\Users\\Fahim\\AppData\\Local\\Programs\\Python\\Python310\\lib\\site-packages\\bravado_core\\resource.py:146\u001b[0m, in \u001b[0;36mResource.__getattr__\u001b[1;34m(self, item)\u001b[0m\n\u001b[0;32m    144\u001b[0m op \u001b[39m=\u001b[39m \u001b[39mself\u001b[39m\u001b[39m.\u001b[39moperations\u001b[39m.\u001b[39mget(item)\n\u001b[0;32m    145\u001b[0m \u001b[39mif\u001b[39;00m \u001b[39mnot\u001b[39;00m op:\n\u001b[1;32m--> 146\u001b[0m     \u001b[39mraise\u001b[39;00m \u001b[39mAttributeError\u001b[39;00m(\u001b[39mu\u001b[39m\u001b[39m\"\u001b[39m\u001b[39mResource \u001b[39m\u001b[39m'\u001b[39m\u001b[39m{0}\u001b[39;00m\u001b[39m'\u001b[39m\u001b[39m has no operation \u001b[39m\u001b[39m'\u001b[39m\u001b[39m{1}\u001b[39;00m\u001b[39m'\u001b[39m\u001b[39m\"\u001b[39m\u001b[39m.\u001b[39mformat(\u001b[39mself\u001b[39m\u001b[39m.\u001b[39mname, item))\n\u001b[0;32m    147\u001b[0m \u001b[39mreturn\u001b[39;00m op\n",
      "\u001b[1;31mAttributeError\u001b[0m: Resource 'contributions' has no operation 'get_entries'"
     ]
    }
   ],
   "source": [
    "from mp_api.client import MPRester\n",
    "from pymatgen.analysis.pourbaix_diagram import PourbaixDiagram\n",
    "\n",
    "with MPRester(api_key='CmGarHKLtPCjVpEkivPDYkhRJKJiB8A7') as mpr:\n",
    "    pourbaix_entries = mpr.get_pourbaix_entries('Ag-O-Ta')\n",
    "    pd = PourbaixDiagram(pourbaix_entries)"
   ]
  }
 ],
 "metadata": {
  "kernelspec": {
   "display_name": "Python 3",
   "language": "python",
   "name": "python3"
  },
  "language_info": {
   "codemirror_mode": {
    "name": "ipython",
    "version": 3
   },
   "file_extension": ".py",
   "mimetype": "text/x-python",
   "name": "python",
   "nbconvert_exporter": "python",
   "pygments_lexer": "ipython3",
   "version": "3.10.2"
  },
  "orig_nbformat": 4,
  "vscode": {
   "interpreter": {
    "hash": "ba9d6d80d2d4940eb0c1c06aa984546225b073a21b65076120add7de741b0a88"
   }
  }
 },
 "nbformat": 4,
 "nbformat_minor": 2
}
