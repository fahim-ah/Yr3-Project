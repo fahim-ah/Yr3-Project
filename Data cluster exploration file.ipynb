{
 "cells": [
  {
   "attachments": {},
   "cell_type": "markdown",
   "metadata": {},
   "source": [
    "# **Exploring data for each cluster**"
   ]
  },
  {
   "attachments": {},
   "cell_type": "markdown",
   "metadata": {},
   "source": [
    "**Importing modules + dataframes**"
   ]
  },
  {
   "cell_type": "code",
   "execution_count": null,
   "metadata": {},
   "outputs": [],
   "source": [
    "import pandas as pd\n",
    "import numpy as np\n",
    "import matplotlib.pyplot as plt\n",
    "from sklearn.cluster import KMeans\n",
    "from matminer.featurizers.conversions import StrToComposition\n",
    "from pymatgen.ext.matproj import MPRester\n",
    "from sklearn.linear_model import LinearRegression\n",
    "from IPython.display import display\n",
    "\n",
    "# Importing all datasets\n",
    "cluster_1 = pd.read_csv(r'Cluster_0.csv')\n",
    "cluster_2 = pd.read_csv(r'Cluster_1.csv')\n",
    "cluster_3 = pd.read_csv(r'Cluster_2.csv')\n",
    "cluster_4 = pd.read_csv(r'Cluster_3.csv')\n",
    "cluster_5 = pd.read_csv(r'Cluster_4.csv')"
   ]
  },
  {
   "attachments": {},
   "cell_type": "markdown",
   "metadata": {},
   "source": [
    "**Determining which cluster is assigned**"
   ]
  },
  {
   "cell_type": "code",
   "execution_count": null,
   "metadata": {},
   "outputs": [],
   "source": [
    "#Function to find minimum overpotential in a dataset\n",
    "def print_min(data):\n",
    "    print(data[\"Overpotential at xx (nearby) current density vs RHE, V\"].min())\n",
    "print_min(cluster_1)\n",
    "print_min(cluster_2)\n",
    "print_min(cluster_3)\n",
    "print_min(cluster_4)\n",
    "print_min(cluster_5)\n",
    "df_list = [cluster_1,cluster_2,cluster_3,cluster_4,cluster_5]"
   ]
  },
  {
   "cell_type": "code",
   "execution_count": null,
   "metadata": {},
   "outputs": [],
   "source": [
    "# Assigning clusters\n",
    "\n",
    "def assign_clusters(df_list):\n",
    "    for data in df_list:\n",
    "        if data[\"Overpotential at xx (nearby) current density vs RHE, V\"].min() == 1.89:\n",
    "            left_data = data\n",
    "        elif data[\"Overpotential at xx (nearby) current density vs RHE, V\"].min() == 1.09:\n",
    "            middle_left = data\n",
    "        elif data[\"Overpotential at xx (nearby) current density vs RHE, V\"].min() == 0.81:\n",
    "            middle_right = data\n",
    "        elif data[\"Overpotential at xx (nearby) current density vs RHE, V\"].min() == 0.26:\n",
    "            optimum_region = data\n",
    "        else:\n",
    "            right_data = data\n",
    "    new_df_list = [left_data,middle_left,middle_right,optimum_region,right_data]\n",
    "    return new_df_list\n",
    "\n",
    "new_df_list = assign_clusters(df_list)\n",
    "#print(new_df_list)\n",
    "\n",
    "var_names = [\"left_data\", \"middle_left\", \"middle_right\", \"optimum_region\", \"right_data\"]\n",
    "vars_dict = dict(zip(var_names, new_df_list))\n",
    "left_data = vars_dict[\"left_data\"]\n",
    "middle_left= vars_dict[\"middle_left\"]\n",
    "middle_right = vars_dict[\"middle_right\"]\n",
    "optimum_region = vars_dict[\"optimum_region\"]\n",
    "right_data = vars_dict[\"right_data\"]\n"
   ]
  },
  {
   "attachments": {},
   "cell_type": "markdown",
   "metadata": {},
   "source": [
    "**Finding composition data on each dataframe**"
   ]
  },
  {
   "cell_type": "code",
   "execution_count": null,
   "metadata": {},
   "outputs": [],
   "source": [
    "#Function to produce a df of counts for every element within each datafram\n",
    "def retrieve_composition_df(df):\n",
    "    comp_list = list(df['composition'])\n",
    "    ind_element = []\n",
    "    for i in comp_list:\n",
    "        ind_element+=i.split()\n",
    "    [[x,ind_element.count(x)] for x in set(ind_element)]\n",
    "    ind_element_dic =  dict((x,ind_element.count(x)) for x in set(ind_element))\n",
    "    ind_element_df = pd.DataFrame.from_dict(ind_element_dic, orient = 'index', columns=['Count'])\n",
    "    ind_element_df= ind_element_df.reset_index(names=['Element'])\n",
    "    ind_element_df = ind_element_df.sort_values(by = 'Count', ascending=False, ignore_index=True)\n",
    "    #display(ind_element_df)\n",
    "    return ind_element_df\n"
   ]
  },
  {
   "cell_type": "code",
   "execution_count": null,
   "metadata": {},
   "outputs": [],
   "source": [
    "#Bar chart plot to visualise the number of elements in each region, +saving figures\n",
    "def bar_chart_element_count(df1,df2,df3,df4,df5):\n",
    "    df_list = [df1,df2,df3,df4,df5]\n",
    "    for i in range(0,len(df_list)):\n",
    "        title_lst = ['Optimum region','Left side','Middle left','Middle right', 'Right side']\n",
    "        df = df_list[i].loc[1:12,:]\n",
    "        fig, ax = plt.subplots()\n",
    "        ax.bar(x=df['Element'], height=df['Count'])\n",
    "        ax.set_title(title_lst[i])\n",
    "        ax.set_xlabel('Element')\n",
    "        ax.set_ylabel('Count')\n",
    "        fig.savefig(title_lst[i]+'.png', bbox_inches='tight')\n"
   ]
  },
  {
   "cell_type": "code",
   "execution_count": null,
   "metadata": {},
   "outputs": [],
   "source": [
    "\n",
    "element_df_optimum =  retrieve_composition_df(optimum_region)\n",
    "element_df_left =  retrieve_composition_df(left_data)\n",
    "element_df_middle_left =  retrieve_composition_df(middle_left)\n",
    "element_df_middle_right =  retrieve_composition_df(middle_right)\n",
    "element_df_right =  retrieve_composition_df(right_data)\n",
    "bar_chart_element_count(element_df_optimum,element_df_left,element_df_middle_left,element_df_middle_right,element_df_right)"
   ]
  },
  {
   "attachments": {},
   "cell_type": "markdown",
   "metadata": {},
   "source": [
    "**Analysing if elements are spread or concentrated in one region**"
   ]
  },
  {
   "cell_type": "code",
   "execution_count": null,
   "metadata": {},
   "outputs": [],
   "source": [
    "#Adding new column names\n",
    "title_lst = ['Optimum region','Left side','Middle left','Middle right', 'Right side']\n",
    "\n",
    "element_df_optimum['Region'] = 'Optimum region'\n",
    "element_df_left['Region'] = 'Left side'\n",
    "element_df_middle_left['Region'] =  'Middle left'\n",
    "element_df_middle_right['Region'] = 'Middle right'\n",
    "element_df_right['Region'] = 'Right side'"
   ]
  },
  {
   "cell_type": "code",
   "execution_count": null,
   "metadata": {},
   "outputs": [],
   "source": [
    "#Combining datasets \n",
    "combined_element_df = pd.concat([element_df_optimum,element_df_left,element_df_middle_left,element_df_middle_right,element_df_right])\n",
    "combined_element_df = combined_element_df.pivot_table(\n",
    "                        values='Count',\n",
    "                        index='Element',\n",
    "                        columns='Region',\n",
    "                        fill_value=0,\n",
    "                        aggfunc= sum,\n",
    "                        margins=True)\n",
    "#combined_element_df.to_excel('Element analysis file.xlsx')"
   ]
  },
  {
   "attachments": {},
   "cell_type": "markdown",
   "metadata": {},
   "source": [
    "**Generating pourbaix diagrams**"
   ]
  },
  {
   "cell_type": "code",
   "execution_count": null,
   "metadata": {},
   "outputs": [],
   "source": [
    "from mp_api.client import MPRester\n",
    "from pymatgen.analysis.pourbaix_diagram import PourbaixDiagram\n",
    "\n",
    "with MPRester(api_key='') as mpr:\n",
    "    pourbaix_entries = mpr.get_pourbaix_entries('Ag-O-Ta')\n",
    "    pd = PourbaixDiagram(pourbaix_entries)"
   ]
  }
 ],
 "metadata": {
  "kernelspec": {
   "display_name": "Python 3",
   "language": "python",
   "name": "python3"
  },
  "language_info": {
   "codemirror_mode": {
    "name": "ipython",
    "version": 3
   },
   "file_extension": ".py",
   "mimetype": "text/x-python",
   "name": "python",
   "nbconvert_exporter": "python",
   "pygments_lexer": "ipython3",
   "version": "3.10.2"
  },
  "orig_nbformat": 4,
  "vscode": {
   "interpreter": {
    "hash": "ba9d6d80d2d4940eb0c1c06aa984546225b073a21b65076120add7de741b0a88"
   }
  }
 },
 "nbformat": 4,
 "nbformat_minor": 2
}
