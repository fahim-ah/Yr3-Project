{
 "cells": [
  {
   "cell_type": "markdown",
   "metadata": {},
   "source": [
    "# **Year 3 project - Optimising the stability of a catalyst**"
   ]
  },
  {
   "cell_type": "markdown",
   "metadata": {},
   "source": [
    "**Data Loading + imports**"
   ]
  },
  {
   "cell_type": "code",
   "execution_count": null,
   "metadata": {},
   "outputs": [],
   "source": [
    "import pandas as pd\n",
    "import numpy as np\n",
    "import matplotlib.pyplot as plt\n",
    "from sklearn.mixture import GaussianMixture\n",
    "from sklearn.cluster import KMeans\n",
    "initial_df = pd.read_csv(r'C:\\Users\\Fahim\\Yr3-Project-1\\Python import.csv')"
   ]
  },
  {
   "cell_type": "markdown",
   "metadata": {},
   "source": [
    "**Data exploration**"
   ]
  },
  {
   "cell_type": "code",
   "execution_count": null,
   "metadata": {},
   "outputs": [],
   "source": [
    "#print(initial_df.head())\n",
    "print(initial_df.columns)\n",
    "#print(initial_df.describe())\n",
    "#print(initial_df.info())"
   ]
  },
  {
   "cell_type": "markdown",
   "metadata": {},
   "source": [
    "**Data cleaning**"
   ]
  },
  {
   "cell_type": "code",
   "execution_count": null,
   "metadata": {},
   "outputs": [],
   "source": [
    "def parse_Nan(dataset):\n",
    "    parse_datatset = dataset.replace('-',0) \n",
    "    parse_datatset = parse_datatset.fillna(0)\n",
    "    return parse_datatset"
   ]
  },
  {
   "cell_type": "code",
   "execution_count": null,
   "metadata": {},
   "outputs": [],
   "source": [
    "initial_df = parse_Nan(initial_df)\n",
    "columns_to_keep = [\"Catalyst Materials\",\"Family\",\"ΔGOH*\",\"ΔGO*\",\"ΔGOOH*\",\"Overpotential at xx (nearby) current density vs RHE, V\"]\n",
    "entropy_data = initial_df[columns_to_keep]\n",
    "columns_to_int = [\"ΔGOH*\",\"ΔGO*\",\"ΔGOOH*\",\"Overpotential at xx (nearby) current density vs RHE, V\"]\n",
    "entropy_data[columns_to_int] = entropy_data[columns_to_int].astype(float)\n",
    "entropy_data['ΔGO*-ΔGOH*'] = entropy_data['ΔGO*'] - entropy_data['ΔGOH*']\n",
    "#print(entropy_data.describe())"
   ]
  },
  {
   "cell_type": "markdown",
   "metadata": {},
   "source": [
    "**Preparing first graph**"
   ]
  },
  {
   "cell_type": "code",
   "execution_count": null,
   "metadata": {},
   "outputs": [],
   "source": [
    "entropy_data = entropy_data.loc[entropy_data[\"ΔGO*-ΔGOH*\"] != 0.0 ]\n",
    "#print(entropy_data)\n",
    "entropy_data.plot(x='ΔGO*-ΔGOH*', y = 'Overpotential at xx (nearby) current density vs RHE, V', kind='scatter')\n",
    "plt.show()"
   ]
  },
  {
   "cell_type": "markdown",
   "metadata": {},
   "source": [
    "**Clustering**"
   ]
  },
  {
   "cell_type": "code",
   "execution_count": null,
   "metadata": {},
   "outputs": [],
   "source": [
    "def elbow_plot(elbow_data):\n",
    "    k_rng = range(1,10)\n",
    "    sse = []\n",
    "    for k in k_rng:\n",
    "        km = KMeans(n_clusters= k)\n",
    "        km.fit(elbow_data[['ΔGO*-ΔGOH*','Overpotential at xx (nearby) current density vs RHE, V']])\n",
    "        sse.append(km.inertia_)\n",
    "    plt.xlabel('k')\n",
    "    plt.ylabel('Sum of squared error')\n",
    "    plt.plot(k_rng,sse)\n",
    "    plt.show()"
   ]
  },
  {
   "cell_type": "code",
   "execution_count": null,
   "metadata": {},
   "outputs": [],
   "source": [
    "def cluster_df(cluster_df,n_clusters):\n",
    "    color = ['black','green','purple','red','blue']\n",
    "    for k in range(0,n_clusters):\n",
    "        data = cluster_df[cluster_df[\"cluster\"]==k]\n",
    "        plt.scatter(data['ΔGO*-ΔGOH*'],data[\"Overpotential at xx (nearby) current density vs RHE, V\"],c=color[k])\n",
    "        print(data['Overpotential at xx (nearby) current density vs RHE, V'].max())\n",
    "    "
   ]
  },
  {
   "cell_type": "code",
   "execution_count": null,
   "metadata": {},
   "outputs": [],
   "source": [
    "elbow_plot(entropy_data)\n",
    "km = KMeans(n_clusters= 5)\n",
    "y_predicted = km.fit_predict(entropy_data[['ΔGO*-ΔGOH*','Overpotential at xx (nearby) current density vs RHE, V']])\n",
    "entropy_data['cluster'] = y_predicted\n",
    "cluster_df(entropy_data,5)\n",
    "plt.xlabel('ΔGO*-ΔGOH*')\n",
    "plt.ylabel('Overpotential at xx (nearby) current density vs RHE, V')"
   ]
  },
  {
   "cell_type": "markdown",
   "metadata": {},
   "source": [
    "**Data exploration of clusters**"
   ]
  },
  {
   "cell_type": "code",
   "execution_count": null,
   "metadata": {},
   "outputs": [],
   "source": [
    "#Summary statistics on family data on optimum catalysts, catalyst filtered down to our data and the whole initial DF\n",
    "optimum_catalyst = entropy_data[entropy_data['Overpotential at xx (nearby) current density vs RHE, V']<1.10]\n",
    "print('The number of families in the optimum catalyst dataset + normalized is:')\n",
    "print(optimum_catalyst['Family'].value_counts())\n",
    "print(optimum_catalyst['Family'].value_counts(normalize= True))\n",
    "print('The number of families in the filtered catalyst dataset + normalized is:')\n",
    "print(entropy_data['Family'].value_counts())\n",
    "print(entropy_data['Family'].value_counts(normalize= True))\n",
    "print('The number of families in the initial catalyst dataset + normalized is:')\n",
    "print(initial_df['Family'].value_counts())\n",
    "print(initial_df['Family'].value_counts(normalize= True))"
   ]
  }
 ],
 "metadata": {
  "kernelspec": {
   "display_name": "Python 3.10.2 64-bit",
   "language": "python",
   "name": "python3"
  },
  "language_info": {
   "codemirror_mode": {
    "name": "ipython",
    "version": 3
   },
   "file_extension": ".py",
   "mimetype": "text/x-python",
   "name": "python",
   "nbconvert_exporter": "python",
   "pygments_lexer": "ipython3",
   "version": "3.10.2"
  },
  "orig_nbformat": 4,
  "vscode": {
   "interpreter": {
    "hash": "ba9d6d80d2d4940eb0c1c06aa984546225b073a21b65076120add7de741b0a88"
   }
  }
 },
 "nbformat": 4,
 "nbformat_minor": 2
}
