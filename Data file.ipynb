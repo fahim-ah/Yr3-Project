{
 "cells": [
  {
   "cell_type": "markdown",
   "metadata": {},
   "source": [
    "# **Year 3 project - Optimising the stability of a catalyst**"
   ]
  },
  {
   "cell_type": "markdown",
   "metadata": {},
   "source": [
    "**Data Loading + imports**"
   ]
  },
  {
   "cell_type": "code",
   "execution_count": null,
   "metadata": {},
   "outputs": [],
   "source": [
    "import pandas as pd\n",
    "import numpy as np\n",
    "import matplotlib.pyplot as plt\n",
    "from sklearn.cluster import KMeans\n",
    "from matminer.featurizers.conversions import StrToComposition\n",
    "from pymatgen.ext.matproj import MPRester\n",
    "initial_df = pd.read_csv(r'C:\\Users\\Fahim\\Yr3-Project-1\\Python import.csv')"
   ]
  },
  {
   "cell_type": "markdown",
   "metadata": {},
   "source": [
    "**Data exploration**"
   ]
  },
  {
   "cell_type": "code",
   "execution_count": null,
   "metadata": {},
   "outputs": [],
   "source": [
    "#print(initial_df.head())\n",
    "#print(initial_df.columns)\n",
    "#print(initial_df.describe())\n",
    "#print(initial_df.info())"
   ]
  },
  {
   "cell_type": "markdown",
   "metadata": {},
   "source": [
    "**Data cleaning**"
   ]
  },
  {
   "cell_type": "code",
   "execution_count": null,
   "metadata": {},
   "outputs": [],
   "source": [
    "#This function will replace '-' values for zeroes. Also replace Nan values with zeroes\n",
    "def parse_Nan(dataset):\n",
    "    parse_datatset = dataset.replace('-',0) \n",
    "    parse_datatset = parse_datatset.fillna(0)\n",
    "    return parse_datatset"
   ]
  },
  {
   "cell_type": "code",
   "execution_count": null,
   "metadata": {},
   "outputs": [],
   "source": [
    "#filter columns that are required for us. Also convert some object columns to floats\n",
    "def column_cleaning(dataset):\n",
    "    columns_to_keep = [\"Catalyst Materials\",\"Family\",\"ΔGOH*\",\"ΔGO*\",\"ΔGOOH*\",\"Overpotential at xx (nearby) current density vs RHE, V\"]\n",
    "    entropy_data = dataset.loc[:,columns_to_keep]\n",
    "    columns_to_int = [\"ΔGOH*\",\"ΔGO*\",\"ΔGOOH*\",\"Overpotential at xx (nearby) current density vs RHE, V\"]\n",
    "    entropy_data[columns_to_int] = entropy_data[columns_to_int].astype(float)\n",
    "    return entropy_data"
   ]
  },
  {
   "cell_type": "code",
   "execution_count": null,
   "metadata": {},
   "outputs": [],
   "source": [
    "#Launching functions\n",
    "initial_df = parse_Nan(initial_df)\n",
    "entropy_data = column_cleaning(initial_df)\n",
    "entropy_data['ΔGO*-ΔGOH*'] = entropy_data['ΔGO*'] - entropy_data['ΔGOH*']\n",
    "entropy_data['ΔGOOH*-ΔGOH*'] = entropy_data['ΔGOOH*'] - entropy_data['ΔGOH*']\n",
    "\n",
    "#print(entropy_data.describe())"
   ]
  },
  {
   "cell_type": "markdown",
   "metadata": {},
   "source": [
    "**Preparing first graph**"
   ]
  },
  {
   "cell_type": "code",
   "execution_count": null,
   "metadata": {},
   "outputs": [],
   "source": [
    "#Slicing only data with values for required columns, then plotting dataset\n",
    "\n",
    "entropy_data = entropy_data.loc[entropy_data[\"ΔGO*-ΔGOH*\"] != 0.0 ]\n",
    "entropy_data.plot(x='ΔGO*-ΔGOH*', y = 'Overpotential at xx (nearby) current density vs RHE, V', kind='scatter')\n",
    "plt.show()"
   ]
  },
  {
   "cell_type": "markdown",
   "metadata": {},
   "source": [
    "**Clustering**"
   ]
  },
  {
   "cell_type": "code",
   "execution_count": null,
   "metadata": {},
   "outputs": [],
   "source": [
    "#Creating an elbow plot to determine how many cluster will be required for model\n",
    "def elbow_plot(elbow_data):\n",
    "    k_rng = range(1,10)\n",
    "    sse = []\n",
    "    for k in k_rng:\n",
    "        km = KMeans(n_clusters= k)\n",
    "        km.fit(elbow_data[['ΔGO*-ΔGOH*','Overpotential at xx (nearby) current density vs RHE, V']])\n",
    "        sse.append(km.inertia_)\n",
    "    plt.xlabel('k')\n",
    "    plt.ylabel('Sum of squared error')\n",
    "    plt.plot(k_rng,sse)\n",
    "    plt.show()"
   ]
  },
  {
   "cell_type": "code",
   "execution_count": null,
   "metadata": {},
   "outputs": [],
   "source": [
    "#Creating cluster plot using K-means method\n",
    "def cluster_df(cluster_df,n_clusters):\n",
    "    color = ['black','green','purple','red','blue']\n",
    "    for k in range(0,n_clusters):\n",
    "        data = cluster_df[cluster_df[\"cluster\"]==k]\n",
    "        plt.scatter(data['ΔGO*-ΔGOH*'],data[\"Overpotential at xx (nearby) current density vs RHE, V\"],c=color[k])\n",
    "        print(data['Overpotential at xx (nearby) current density vs RHE, V'].max())\n",
    "    "
   ]
  },
  {
   "cell_type": "code",
   "execution_count": null,
   "metadata": {},
   "outputs": [],
   "source": [
    "#Placing functions down\n",
    "elbow_plot(entropy_data)\n",
    "km = KMeans(n_clusters= 5)\n",
    "y_predicted = km.fit_predict(entropy_data[['ΔGO*-ΔGOH*','Overpotential at xx (nearby) current density vs RHE, V']])\n",
    "entropy_data['cluster'] = y_predicted\n",
    "cluster_df(entropy_data,5)\n",
    "plt.xlabel('ΔGO*-ΔGOH*')\n",
    "plt.ylabel('Overpotential at xx (nearby) current density vs RHE, V')"
   ]
  },
  {
   "cell_type": "markdown",
   "metadata": {},
   "source": [
    "**Data exploration of optimum cluster**"
   ]
  },
  {
   "cell_type": "code",
   "execution_count": null,
   "metadata": {},
   "outputs": [],
   "source": [
    "#Function to determine proprtion of different catalyst materials in each dataset\n",
    "def printing_stats_1(df_1,df_2,df_3):\n",
    "    df_names = ['optimum catalysts','filtered initial','initial']\n",
    "    data = [df_1, df_2 ,df_3] \n",
    "    for i in range(0,3):\n",
    "        print('The number of families in the', df_names[i], 'dataframe + normalized is:')\n",
    "        print(data[i]['Family'].value_counts())\n",
    "        print(data[i]['Family'].value_counts(normalize= True))"
   ]
  },
  {
   "cell_type": "code",
   "execution_count": null,
   "metadata": {},
   "outputs": [],
   "source": [
    "#Summary statistics on family data on optimum catalysts, catalyst filtered down to our data and the whole initial DF\n",
    "optimum_catalyst = entropy_data[entropy_data['Overpotential at xx (nearby) current density vs RHE, V']<1.10]\n",
    "printing_stats_1(optimum_catalyst,entropy_data,initial_df)"
   ]
  },
  {
   "attachments": {},
   "cell_type": "markdown",
   "metadata": {},
   "source": [
    "**Element composition featurisation**"
   ]
  },
  {
   "cell_type": "code",
   "execution_count": null,
   "metadata": {},
   "outputs": [],
   "source": [
    "#Creating a column for element composition\n",
    "str_comp = StrToComposition(target_col_id='composition')\n",
    "entropy_data = str_comp.featurize_dataframe(entropy_data, col_id='Catalyst Materials')\n",
    "#print(entropy_data)"
   ]
  },
  {
   "attachments": {},
   "cell_type": "markdown",
   "metadata": {},
   "source": [
    "**Accessing material ID from material project + other properties**"
   ]
  },
  {
   "cell_type": "code",
   "execution_count": null,
   "metadata": {},
   "outputs": [],
   "source": [
    "'''with MPRester('CmGarHKLtPCjVpEkivPDYkhRJKJiB8A7') as mpr:\n",
    "    # Use the summary.search method to search for materials with the formula '**O3'\n",
    "    materials = mpr.summary.search(formula='**O3',fields=['material_id','formula_pretty','band_gap'])\n",
    "print(materials)'''\n",
    "with MPRester('CmGarHKLtPCjVpEkivPDYkhRJKJiB8A7') as mpr:\n",
    "    results = mpr.summary.search(formula='**O3', fields=[\"material_id\", \"formula_pretty\",'band_gap'])\n",
    "    data_list = [(result.material_id, result.formula_pretty, result.band_gap) for result in results]\n",
    "    #print(data_list)"
   ]
  }
 ],
 "metadata": {
  "kernelspec": {
   "display_name": "Python 3.10.2 64-bit",
   "language": "python",
   "name": "python3"
  },
  "language_info": {
   "codemirror_mode": {
    "name": "ipython",
    "version": 3
   },
   "file_extension": ".py",
   "mimetype": "text/x-python",
   "name": "python",
   "nbconvert_exporter": "python",
   "pygments_lexer": "ipython3",
   "version": "3.10.2 (tags/v3.10.2:a58ebcc, Jan 17 2022, 14:12:15) [MSC v.1929 64 bit (AMD64)]"
  },
  "orig_nbformat": 4,
  "vscode": {
   "interpreter": {
    "hash": "ba9d6d80d2d4940eb0c1c06aa984546225b073a21b65076120add7de741b0a88"
   }
  }
 },
 "nbformat": 4,
 "nbformat_minor": 2
}
