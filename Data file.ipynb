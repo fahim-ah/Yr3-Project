{
 "cells": [
  {
   "cell_type": "markdown",
   "metadata": {},
   "source": [
    "# **Year 3 project - Optimising the stability of a catalyst**"
   ]
  },
  {
   "cell_type": "markdown",
   "metadata": {},
   "source": [
    "**Data Loading + imports**"
   ]
  },
  {
   "cell_type": "code",
   "execution_count": null,
   "metadata": {},
   "outputs": [],
   "source": [
    "import pandas as pd\n",
    "import numpy as np\n",
    "import matplotlib.pyplot as plt\n",
    "from sklearn.cluster import KMeans\n",
    "from matminer.featurizers.conversions import StrToComposition\n",
    "from pymatgen.ext.matproj import MPRester\n",
    "initial_df = pd.read_csv(r'C:\\Users\\Fahim\\Yr3-Project-1\\Python import.csv')"
   ]
  },
  {
   "cell_type": "markdown",
   "metadata": {},
   "source": [
    "**Data exploration**"
   ]
  },
  {
   "cell_type": "code",
   "execution_count": null,
   "metadata": {},
   "outputs": [],
   "source": [
    "def dataset_info(dataset):\n",
    "    print(dataset.head())\n",
    "    print(dataset.columns)\n",
    "    print(dataset.describe())\n",
    "    print(dataset.info())"
   ]
  },
  {
   "attachments": {},
   "cell_type": "markdown",
   "metadata": {},
   "source": [
    "**Data cleaning functions**"
   ]
  },
  {
   "cell_type": "code",
   "execution_count": null,
   "metadata": {},
   "outputs": [],
   "source": [
    "#This function will replace '-' values for zeroes. Also replace Nan values with zeroes\n",
    "def parse_Nan(dataset):\n",
    "    parse_datatset = dataset.replace('-',0) \n",
    "    parse_datatset = parse_datatset.fillna(0)\n",
    "    return parse_datatset"
   ]
  },
  {
   "cell_type": "code",
   "execution_count": null,
   "metadata": {},
   "outputs": [],
   "source": [
    "#filter columns that are required for us. Also convert some object columns to floats\n",
    "def column_cleaning(dataset):\n",
    "    columns_to_keep = [\"Catalyst Materials\",\"Family\",\"ΔGOH*\",\"ΔGO*\",\"ΔGOOH*\",\"Overpotential at xx (nearby) current density vs RHE, V\"]\n",
    "    entropy_data = dataset.loc[:,columns_to_keep]\n",
    "    columns_to_int = [\"ΔGOH*\",\"ΔGO*\",\"ΔGOOH*\",\"Overpotential at xx (nearby) current density vs RHE, V\"]\n",
    "    entropy_data[columns_to_int] = entropy_data[columns_to_int].astype(float)\n",
    "    return entropy_data"
   ]
  },
  {
   "attachments": {},
   "cell_type": "markdown",
   "metadata": {},
   "source": [
    "**Launching cleaning functions on datasets**"
   ]
  },
  {
   "cell_type": "code",
   "execution_count": null,
   "metadata": {},
   "outputs": [],
   "source": [
    "#Launching functions\n",
    "#dataset_info(initial_df)\n",
    "initial_df = parse_Nan(initial_df)\n",
    "entropy_data = column_cleaning(initial_df)\n",
    "entropy_data['ΔGO*-ΔGOH*'] = entropy_data['ΔGO*'] - entropy_data['ΔGOH*']\n",
    "entropy_data['ΔGOOH*-ΔGOH*'] = entropy_data['ΔGOOH*'] - entropy_data['ΔGOH*']\n",
    "#Slicing only data with values for required columns, then plotting dataset\n",
    "entropy_data = entropy_data.loc[entropy_data[\"ΔGO*-ΔGOH*\"] != 0.0 ]\n",
    "#print(entropy_data.describe())"
   ]
  },
  {
   "attachments": {},
   "cell_type": "markdown",
   "metadata": {},
   "source": [
    "**Element composition featurisation**"
   ]
  },
  {
   "cell_type": "code",
   "execution_count": null,
   "metadata": {},
   "outputs": [],
   "source": [
    "#Creating a column for element composition\n",
    "str_comp = StrToComposition(target_col_id='composition')\n",
    "entropy_data = str_comp.featurize_dataframe(entropy_data, col_id='Catalyst Materials')\n",
    "#print(entropy_data)"
   ]
  },
  {
   "attachments": {},
   "cell_type": "markdown",
   "metadata": {},
   "source": [
    "**Accessing material ID from material project + other properties**"
   ]
  },
  {
   "cell_type": "code",
   "execution_count": null,
   "metadata": {},
   "outputs": [],
   "source": [
    "with MPRester('CmGarHKLtPCjVpEkivPDYkhRJKJiB8A7') as mpr:\n",
    "    results = mpr.summary.search(formula='**O3', fields=[\"material_id\", \"formula_pretty\",'band_gap'])\n",
    "    data_list = [(result.material_id, result.formula_pretty, result.band_gap) for result in results]\n",
    "    #print(data_list)"
   ]
  },
  {
   "cell_type": "code",
   "execution_count": null,
   "metadata": {},
   "outputs": [],
   "source": [
    "#Sorting chemical compositions in formulas alphabetically\n",
    "\n",
    "def alph_order(composition):\n",
    "    new_formula = []\n",
    "    for i in composition:\n",
    "        first= []\n",
    "        second= []\n",
    "        temp = list(i)\n",
    "        running = True\n",
    "        capital_pos=[]\n",
    "        for x in range(0, len(temp)):\n",
    "            if temp[x].isupper() == True:\n",
    "                capital_pos.append(x)\n",
    "        for y in range(capital_pos[0], capital_pos[1]):\n",
    "                first.append(temp[y])\n",
    "        for z in range(capital_pos[1], len(temp)):\n",
    "                second.append(temp[z])\n",
    "        first = ''.join(str(v) for v in first)\n",
    "        second = ''.join(str(v) for v in second)\n",
    "        compound = ''.join(str(v) for v in first)\n",
    "        compound = second+first+\"O3\"\n",
    "        new_formula.append(compound)\n",
    "    return new_formula\n",
    "#This function is to delete the extra O3 placed in the formulas\n",
    "\n",
    "def remove_O3(composition):\n",
    "    return [i.replace(\"O3\", \"\") for i in composition]\n",
    "\n",
    "def add_o3(composition):\n",
    "    return [i + \"O3\" for i in composition]\n",
    "\n"
   ]
  },
  {
   "attachments": {},
   "cell_type": "markdown",
   "metadata": {},
   "source": [
    "**Sorting list to a dictionary**"
   ]
  },
  {
   "cell_type": "code",
   "execution_count": null,
   "metadata": {},
   "outputs": [],
   "source": [
    "formula = []\n",
    "material_id = []\n",
    "band_gap = []\n",
    "for i in data_list:\n",
    "    material_id.append(i[0])\n",
    "    formula.append(i[1])\n",
    "    band_gap.append(i[2])\n",
    "#Creating dictionary\n",
    "material_proj_data = dict((z[0], list(z[1:])) for z in zip(formula, material_id, band_gap))\n",
    "rearranged_formula = alph_order(formula)\n",
    "rearranged_formula = remove_O3(rearranged_formula)\n",
    "rearranged_formula = add_o3(rearranged_formula)\n",
    "#Creating dictionary for re-arranged formulae\n",
    "material_proj_data_rearranged = dict((z[0], list(z[1:])) for z in zip(rearranged_formula, material_id, band_gap))\n",
    "material_proj_data.update(material_proj_data_rearranged)"
   ]
  },
  {
   "attachments": {},
   "cell_type": "markdown",
   "metadata": {},
   "source": [
    "**Dictionary to pandas dataframe + merge with original dataset**"
   ]
  },
  {
   "cell_type": "code",
   "execution_count": null,
   "metadata": {},
   "outputs": [],
   "source": [
    "material_proj_df = pd.DataFrame.from_dict(material_proj_data, orient= 'index')\n",
    "material_proj_df = material_proj_df.reset_index()\n",
    "material_proj_df.columns = [\"Catalyst Materials\", \"material id\", \"band gap\"]\n",
    "entropy_data = entropy_data.merge(material_proj_df, on ='Catalyst Materials', how= 'left')\n",
    "entropy_data.to_excel(\"output.xlsx\",sheet_name='Sheet_name_1') "
   ]
  },
  {
   "attachments": {},
   "cell_type": "markdown",
   "metadata": {},
   "source": [
    "**Dataset exploration after importing data**"
   ]
  },
  {
   "cell_type": "code",
   "execution_count": null,
   "metadata": {},
   "outputs": [],
   "source": [
    "dataset_info(entropy_data)"
   ]
  },
  {
   "cell_type": "markdown",
   "metadata": {},
   "source": [
    "**Preparing first graph**"
   ]
  },
  {
   "cell_type": "code",
   "execution_count": null,
   "metadata": {},
   "outputs": [],
   "source": [
    "def plot_scatter_entropy(data):\n",
    "    x_variables = ['ΔGO*-ΔGOH*','ΔGO*','ΔGOH*']\n",
    "    for i in x_variables:\n",
    "        plt.scatter(data[i],data[\"Overpotential at xx (nearby) current density vs RHE, V\"])\n",
    "        plt.xlabel(i)\n",
    "        plt.ylabel('Overpotential at xx (nearby) current density vs RHE, V')\n",
    "        plt.show()\n",
    "plot_scatter_entropy(entropy_data)"
   ]
  },
  {
   "cell_type": "markdown",
   "metadata": {},
   "source": [
    "**Clustering**"
   ]
  },
  {
   "cell_type": "code",
   "execution_count": null,
   "metadata": {},
   "outputs": [],
   "source": [
    "#Creating an elbow plot to determine how many cluster will be required for model\n",
    "def elbow_plot(elbow_data):\n",
    "    k_rng = range(1,10)\n",
    "    sse = []\n",
    "    for k in k_rng:\n",
    "        km = KMeans(n_clusters= k)\n",
    "        km.fit(elbow_data[['ΔGO*-ΔGOH*','Overpotential at xx (nearby) current density vs RHE, V']])\n",
    "        sse.append(km.inertia_)\n",
    "    plt.xlabel('k')\n",
    "    plt.ylabel('Sum of squared error')\n",
    "    plt.plot(k_rng,sse)\n",
    "    plt.show()"
   ]
  },
  {
   "cell_type": "code",
   "execution_count": null,
   "metadata": {},
   "outputs": [],
   "source": [
    "#Creating cluster plot using K-means method\n",
    "def cluster_df(cluster_df,n_clusters):\n",
    "    color = ['black','green','purple','red','blue']\n",
    "    for k in range(0,n_clusters):\n",
    "        data = cluster_df[cluster_df[\"cluster\"]==k]\n",
    "        plt.scatter(data['ΔGO*-ΔGOH*'],data[\"Overpotential at xx (nearby) current density vs RHE, V\"],c=color[k])\n",
    "        print(data['Overpotential at xx (nearby) current density vs RHE, V'].max())\n",
    "    "
   ]
  },
  {
   "cell_type": "code",
   "execution_count": null,
   "metadata": {},
   "outputs": [],
   "source": [
    "#Placing functions down\n",
    "elbow_plot(entropy_data)\n",
    "km = KMeans(n_clusters= 5)\n",
    "y_predicted = km.fit_predict(entropy_data[['ΔGO*-ΔGOH*','Overpotential at xx (nearby) current density vs RHE, V']])\n",
    "entropy_data['cluster'] = y_predicted\n",
    "cluster_df(entropy_data,5)\n",
    "plt.xlabel('ΔGO*-ΔGOH*')\n",
    "plt.ylabel('Overpotential at xx (nearby) current density vs RHE, V')"
   ]
  },
  {
   "cell_type": "markdown",
   "metadata": {},
   "source": [
    "**Data exploration of optimum cluster**"
   ]
  },
  {
   "cell_type": "code",
   "execution_count": null,
   "metadata": {},
   "outputs": [],
   "source": [
    "#Function to determine proprtion of different catalyst materials in each dataset\n",
    "def printing_stats_1(df_1,df_2,df_3):\n",
    "    df_names = ['optimum catalysts','filtered initial','initial']\n",
    "    data = [df_1, df_2 ,df_3] \n",
    "    for i in range(0,3):\n",
    "        print('The number of families in the', df_names[i], 'dataframe + normalized is:')\n",
    "        print(data[i]['Family'].value_counts())\n",
    "        print(data[i]['Family'].value_counts(normalize= True))"
   ]
  },
  {
   "cell_type": "code",
   "execution_count": null,
   "metadata": {},
   "outputs": [],
   "source": [
    "#Summary statistics on family data on optimum catalysts, catalyst filtered down to our data and the whole initial DF\n",
    "optimum_catalyst = entropy_data[entropy_data['Overpotential at xx (nearby) current density vs RHE, V']<1.10]\n",
    "printing_stats_1(optimum_catalyst,entropy_data,initial_df)"
   ]
  }
 ],
 "metadata": {
  "kernelspec": {
   "display_name": "Python 3.10.2 64-bit",
   "language": "python",
   "name": "python3"
  },
  "language_info": {
   "codemirror_mode": {
    "name": "ipython",
    "version": 3
   },
   "file_extension": ".py",
   "mimetype": "text/x-python",
   "name": "python",
   "nbconvert_exporter": "python",
   "pygments_lexer": "ipython3",
   "version": "3.10.2"
  },
  "orig_nbformat": 4,
  "vscode": {
   "interpreter": {
    "hash": "ba9d6d80d2d4940eb0c1c06aa984546225b073a21b65076120add7de741b0a88"
   }
  }
 },
 "nbformat": 4,
 "nbformat_minor": 2
}
